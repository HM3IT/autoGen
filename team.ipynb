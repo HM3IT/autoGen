{
 "cells": [
  {
   "cell_type": "code",
   "execution_count": 1,
   "metadata": {},
   "outputs": [],
   "source": [
    "from autogen_agentchat.agents import AssistantAgent\n",
    "from autogen_agentchat.conditions import TextMessageTermination\n",
    "from autogen_agentchat.teams import RoundRobinGroupChat\n",
    " \n",
    "from autogen_agentchat.base import TaskResult\n",
    "from autogen_agentchat.conditions import ExternalTermination, TextMentionTermination\n",
    "from autogen_agentchat.ui import Console\n",
    "from autogen_ext.models.openai import OpenAIChatCompletionClient\n",
    "from autogen_ext.agents.web_surfer import MultimodalWebSurfer\n",
    "import os\n",
    "\n",
    "model = os.environ[\"MODEL_NAME\"]\n",
    "api_key = os.environ[\"API_KEY\"]\n",
    "base_url = os.environ[\"LLM_BASE_URL\"]\n",
    "\n",
    "model_client = OpenAIChatCompletionClient(\n",
    "    model=model,\n",
    "    base_url=base_url,\n",
    "    api_key=api_key,\n",
    "    parallel_tool_calls= False,\n",
    "    model_info={\n",
    "        \"family\": \"llama\",\n",
    "        \"vision\": False,\n",
    "        \"json_output\": True,\n",
    "        \"function_calling\": True,\n",
    "    },\n",
    ")"
   ]
  },
  {
   "cell_type": "code",
   "execution_count": null,
   "metadata": {},
   "outputs": [],
   "source": [
    "\n",
    "# Create a tool for incrementing a number.\n",
    "def increment_number(number: int) -> int:\n",
    "    \"\"\"Increment a number by 1.\"\"\"\n",
    "    return number + 1\n",
    "\n",
    "\n",
    "\n",
    "web_surfer_agent = MultimodalWebSurfer(\n",
    "    name=\"WebScraper\",\n",
    "    model_client=model_client,\n",
    "    downloads_folder=\"./downloads\",  # Folder where downloaded files can be saved\n",
    "    description=\"Agent who can scrape web pages and search for information on the web.\",\n",
    "    debug_dir=\"./debug\",             # Directory for saving debug output (optional)\n",
    "    headless=True,                   # Run the browser in headless mode\n",
    "    start_page=\"https://www.google.com\",  # The page where the browser should start\n",
    "    animate_actions=False,           # Do not animate actions by default\n",
    "    to_save_screenshots=True,        # Save screenshots during navigation (if needed)\n",
    "    use_ocr=False,                   # Do not use OCR by default\n",
    "    browser_channel=None,            # Use the default browser channel\n",
    "    browser_data_dir=None,           # Use the default data directory for the browser\n",
    "    to_resize_viewport=True,         # Enable viewport resizing if required\n",
    "    playwright=None,                 # Let the agent initialize its own Playwright instance\n",
    "    context=None                     # Use the default browser context\n",
    ")\n",
    "\n",
    "external_termination = ExternalTermination()\n",
    "text_termination = TextMentionTermination(\"APPROVE\")\n",
    " \n",
    "assistant_agent = AssistantAgent(\n",
    "    name=\"assistant\",\n",
    "    model_client=model_client,\n",
    "    system_message=\"You are an advanced AI agent who can handel customer requests critically and communicate with other agents. Respond with 'APPROVE' to when your feedbacks are addressed. Please respond in English for all queries.\",\n",
    "    model_client_stream= True\n",
    ")\n",
    "\n",
    "primary_agent = AssistantAgent(\n",
    "    \"primary\",\n",
    "    model_client=model_client,\n",
    "    system_message=\"You are a helpful AI assistant. Don't include additional words or phrase. Simply provide the answer that user wants.\",\n",
    ")\n",
    "\n",
    "\n",
    "critic_agent = AssistantAgent(\n",
    "    \"critic\",\n",
    "    model_client=model_client,\n",
    "    system_message=\"Provide constructive feedback. Only Respond with 'APPROVE' to when your feedbacks are addressed. Otherwise, don't say 'APPROVE' in your responses. \",\n",
    ")\n"
   ]
  },
  {
   "cell_type": "code",
   "execution_count": null,
   "metadata": {},
   "outputs": [
    {
     "name": "stdout",
     "output_type": "stream",
     "text": [
      "---------- user ----------\n",
      "Write a short poem about the fall season.\n"
     ]
    },
    {
     "name": "stdout",
     "output_type": "stream",
     "text": [
      "---------- primary ----------\n",
      "Golden leaves fall from the tree,\n",
      "Crimson and amber, dancing free.\n",
      "The air is crisp, the wind is cold,\n",
      "As nature's final dance begins to unfold.\n",
      "\n",
      "The scent of woodsmoke fills the air,\n",
      "As earthy smells and decaying fare,\n",
      "The trees stand tall, but soon will fade,\n",
      "Their beauty fleeting, like a summer shade.\n",
      "[Prompt tokens: 47, Completion tokens: 74]\n",
      "---------- critic ----------\n",
      "A nice descriptive poem about fall! However, I think you could use a few more vivid details to make it even more engaging. For example, you might consider adding some specific examples of the types of leaves mentioned in the first line - \"Golden maples\" or \"Crimson oaks\", perhaps?\n",
      "\n",
      "Additionally, you mention that the trees stand tall but will soon fade - is this a subtle allusion to the passing nature of life? If so, it's a theme worthy of further exploration. Consider adding more depth and emotion to your poem by expanding on this idea.\n",
      "\n",
      "Lastly, while your final line about summer shade is technically correct, I'm not entirely sure how you mean to interpret it. Could you consider rephrasing it to make the connection more explicit?\n",
      "[Prompt tokens: 132, Completion tokens: 156]\n",
      "---------- primary ----------\n",
      "Golden maples blaze with fiery sheen,\n",
      "Crimson oaks and amber elms are seen.\n",
      "The air is crisp, the wind is cold,\n",
      "As nature's final dance begins to unfold.\n",
      "\n",
      "The scent of woodsmoke wafts through the air,\n",
      "As earthy smells and decaying fare,\n",
      "From branches charred and leaves that fall,\n",
      "Echoes whispers of a fleeting all.\n",
      "\n",
      "Like human lives, the trees stand tall,\n",
      "Their beauty shines, but eventually will fall.\n",
      "Their roots sink deep, yet still they fade,\n",
      "Leaving behind a legacy displayed.\n",
      "\n",
      "Their summer splendor now but a memory stays,\n",
      "A bittersweet reminder to live and seize each passing day.\n",
      "[Prompt tokens: 285, Completion tokens: 137]\n",
      "---------- critic ----------\n",
      "You've made significant improvements to your poem! By adding more specific examples of tree types in the first stanza, you provide a sense of authenticity and depth. The phrase \"fiery sheen\" is particularly effective at conjuring an image of blazing leaves.\n",
      "\n",
      "In terms of developing the idea about life's fleeting nature, I think you're on the right track. Your third stanza effectively draws attention to this theme by comparing human lives to trees standing tall but eventually falling. However, your fourth line (\"Their roots sink deep, yet still they fade\") feels a bit awkwardly phrased - perhaps rethinking it could make more sense.\n",
      "\n",
      "The final two lines of your poem are quite evocative and effectively capture the bittersweet essence of fall's passing. A great touch!\n",
      "[Prompt tokens: 433, Completion tokens: 157]\n",
      "---------- primary ----------\n",
      "Golden maples blaze with fiery sheen,\n",
      "Crimson oaks and amber elms are seen.\n",
      "The air is crisp, the wind is cold,\n",
      "As nature's final dance begins to unfold.\n",
      "\n",
      "The scent of woodsmoke wafts through the air,\n",
      "As earthy smells and decaying fare,\n",
      "From branches charred and leaves that fall,\n",
      "Echoes whispers of a fleeting all.\n",
      "\n",
      "Like human lives, the trees stand tall,\n",
      "Their beauty shines, but eventually will fall.\n",
      "Their roots dig deep, but life's own force\n",
      "Claims even them, and their time to endorse.\n",
      "\n",
      "Their summer splendor now but a memory stays,\n",
      "A bittersweet reminder to live and seize each passing day.\n",
      "[Prompt tokens: 587, Completion tokens: 141]\n",
      "---------- critic ----------\n",
      "You made a great revision to the fourth line of your third stanza - rephrasing it from \"Their roots sink deep\" to \"Their roots dig deep\" not only changes the verb, but also creates a more active and precise image.\n",
      "\n",
      "However, in terms of cohesion and clarity, the phrase \"life's own force\" might be a bit vague. What do you mean by \"life's own force\"? A more grounded and specific reference to the natural cycle of life (e.g., decay, death) or a more universal concept would help solidify this idea.\n",
      "\n",
      "The final two lines continue to convey the poignancy and importance of appreciating each moment as it passes. The imagery remains evocative, but you may want to consider varying some of the phrase structures for greater diversity in line and stanza rhythm.\n",
      "[Prompt tokens: 739, Completion tokens: 165]\n",
      "---------- primary ----------\n",
      "Golden maples blaze with fiery sheen,\n",
      "Crimson oaks and amber elms are seen.\n",
      "The air is crisp, the wind is cold,\n",
      "As nature's final dance begins to unfold.\n",
      "\n",
      "The scent of woodsmoke wafts through the air,\n",
      "As earthy smells and decaying fare,\n",
      "From branches charred and leaves that fall,\n",
      "Echoes whispers of a fleeting all.\n",
      "\n",
      "Like human lives, the trees stand tall,\n",
      "Their beauty shines, but eventually will fall.\n",
      "Death claims even them, in due time's sway,\n",
      "And decay becomes their final stay.\n",
      "\n",
      "Their summer splendor now but a memory stays,\n",
      "A bittersweet reminder to cherish each passing day.\n",
      "[Prompt tokens: 901, Completion tokens: 136]\n",
      "---------- critic ----------\n",
      "You've clarified your meaning by using more specific and precise language. The phrase \"in due time's sway\" effectively conveys the idea that even trees, like human lives, are subject to the natural passage of time.\n",
      "\n",
      "I also appreciate how you rephrased the final two lines. \"Cherish each passing day\" is a more active call to action than simply \"live and seize each passing day\", implying a sense of mindful appreciation for the present moment.\n",
      "\n",
      "One minor observation: your language remains lyrical and accessible, but some readers may find the imagery a bit generic (e.g., \"earthly smells and decaying fare\"). Consider adding distinctive touches or sensory details to make the experience more immersive.\n",
      "[Prompt tokens: 1048, Completion tokens: 144]\n",
      "---------- primary ----------\n",
      "Golden maples blaze with fiery sheen,\n",
      "Crimson oaks and amber elms are seen.\n",
      "The air is crisp, the wind is cold,\n",
      "As nature's final dance begins to unfold.\n",
      "\n",
      "The scent of woodsmoke rises slow,\n",
      "Like embers glowing from a forest show,\n",
      "From branches charred and leaves that fall,\n",
      "Echoes whispers of a fleeting all.\n",
      "\n",
      "Like human lives, the trees stand tall,\n",
      "Their beauty shines, but eventually will fall.\n",
      "Death claims even them, in due time's sway,\n",
      "And autumn's quiet darkness takes its stay.\n",
      "\n",
      "The rustle of leaves beneath bare feet,\n",
      "Reminds us to cherish each passing beat.\n",
      "[Prompt tokens: 1189, Completion tokens: 132]\n",
      "---------- critic ----------\n",
      "Excellent revisions! You've maintained a consistent tone and imagery throughout the poem, while refining each stanza to create a more cohesive and immersive experience.\n",
      "\n",
      "I particularly like how you've varied the sensory details in the second stanza: switching from scent (\"The scent of woodsmoke wafts through the air\") to visual (\"Like embers glowing from a forest show\") creates a richer texture. The phrase \"forest show\" is also a great way to suggest the autumnal spectacle.\n",
      "\n",
      "In contrast, your final stanza's focus on the physical experience of walking through leaves (\"The rustle of leaves beneath bare feet\") grounds the poem nicely in the present moment, making it even more relatable and poignant.\n",
      "\n",
      "Consider revisiting the language of the third line: \"As autumn's quiet darkness takes its stay\" might work better as a standalone phrase or image. The contrast between \"quiet\" and \"darkness\" feels slightly jarring – you could replace it with something that reinforces the seasonal atmosphere, like \"under winter's grasp\".\n",
      "[Prompt tokens: 1332, Completion tokens: 204]\n",
      "---------- primary ----------\n",
      "Golden maples blaze with fiery sheen,\n",
      "Crimson oaks and amber elms are seen.\n",
      "The air is crisp, the wind is cold,\n",
      "As nature's final dance begins to unfold.\n",
      "\n",
      "The scent of woodsmoke rises slow,\n",
      "Like embers glowing from a forest show,\n",
      "From branches charred and leaves that fall,\n",
      "Echoes whispers of a fleeting all.\n",
      "\n",
      "Like human lives, the trees stand tall,\n",
      "Their beauty shines, but eventually will fall.\n",
      "Death claims even them, in due time's sway,\n",
      "And winter's grasp enfolds each passing day.\n",
      "\n",
      "The rustle of leaves beneath bare feet,\n",
      "Reminds us to cherish each passing beat.\n",
      "[Prompt tokens: 1533, Completion tokens: 133]\n",
      "---------- critic ----------\n",
      "APPROVE \n",
      "\n",
      "Your revisions effectively tied together the autumnal and winter themes, creating a smooth flow from one season to the next. The phrase \"winter's grasp enfolds\" is particularly effective in conveying the sense of passing time and seasonal change.\n",
      "\n",
      "I think your poem has reached a well-crafted conclusion. While there's always room for further refinement, it effectively explores the themes of impermanence, appreciation, and mindfulness through the seasons' lens.\n",
      "[Prompt tokens: 1677, Completion tokens: 92]\n",
      "---------- Summary ----------\n",
      "Number of messages: 13\n",
      "Finish reason: Text 'APPROVE' mentioned\n",
      "Total prompt tokens: 9903\n",
      "Total completion tokens: 1671\n",
      "Duration: 205.92 seconds\n"
     ]
    },
    {
     "data": {
      "text/plain": [
       "TaskResult(messages=[TextMessage(source='user', models_usage=None, metadata={}, content='Write a short poem about the fall season.', type='TextMessage'), TextMessage(source='primary', models_usage=RequestUsage(prompt_tokens=47, completion_tokens=74), metadata={}, content=\"Golden leaves fall from the tree,\\nCrimson and amber, dancing free.\\nThe air is crisp, the wind is cold,\\nAs nature's final dance begins to unfold.\\n\\nThe scent of woodsmoke fills the air,\\nAs earthy smells and decaying fare,\\nThe trees stand tall, but soon will fade,\\nTheir beauty fleeting, like a summer shade.\", type='TextMessage'), TextMessage(source='critic', models_usage=RequestUsage(prompt_tokens=132, completion_tokens=156), metadata={}, content='A nice descriptive poem about fall! However, I think you could use a few more vivid details to make it even more engaging. For example, you might consider adding some specific examples of the types of leaves mentioned in the first line - \"Golden maples\" or \"Crimson oaks\", perhaps?\\n\\nAdditionally, you mention that the trees stand tall but will soon fade - is this a subtle allusion to the passing nature of life? If so, it\\'s a theme worthy of further exploration. Consider adding more depth and emotion to your poem by expanding on this idea.\\n\\nLastly, while your final line about summer shade is technically correct, I\\'m not entirely sure how you mean to interpret it. Could you consider rephrasing it to make the connection more explicit?', type='TextMessage'), TextMessage(source='primary', models_usage=RequestUsage(prompt_tokens=285, completion_tokens=137), metadata={}, content=\"Golden maples blaze with fiery sheen,\\nCrimson oaks and amber elms are seen.\\nThe air is crisp, the wind is cold,\\nAs nature's final dance begins to unfold.\\n\\nThe scent of woodsmoke wafts through the air,\\nAs earthy smells and decaying fare,\\nFrom branches charred and leaves that fall,\\nEchoes whispers of a fleeting all.\\n\\nLike human lives, the trees stand tall,\\nTheir beauty shines, but eventually will fall.\\nTheir roots sink deep, yet still they fade,\\nLeaving behind a legacy displayed.\\n\\nTheir summer splendor now but a memory stays,\\nA bittersweet reminder to live and seize each passing day.\", type='TextMessage'), TextMessage(source='critic', models_usage=RequestUsage(prompt_tokens=433, completion_tokens=157), metadata={}, content='You\\'ve made significant improvements to your poem! By adding more specific examples of tree types in the first stanza, you provide a sense of authenticity and depth. The phrase \"fiery sheen\" is particularly effective at conjuring an image of blazing leaves.\\n\\nIn terms of developing the idea about life\\'s fleeting nature, I think you\\'re on the right track. Your third stanza effectively draws attention to this theme by comparing human lives to trees standing tall but eventually falling. However, your fourth line (\"Their roots sink deep, yet still they fade\") feels a bit awkwardly phrased - perhaps rethinking it could make more sense.\\n\\nThe final two lines of your poem are quite evocative and effectively capture the bittersweet essence of fall\\'s passing. A great touch!', type='TextMessage'), TextMessage(source='primary', models_usage=RequestUsage(prompt_tokens=587, completion_tokens=141), metadata={}, content=\"Golden maples blaze with fiery sheen,\\nCrimson oaks and amber elms are seen.\\nThe air is crisp, the wind is cold,\\nAs nature's final dance begins to unfold.\\n\\nThe scent of woodsmoke wafts through the air,\\nAs earthy smells and decaying fare,\\nFrom branches charred and leaves that fall,\\nEchoes whispers of a fleeting all.\\n\\nLike human lives, the trees stand tall,\\nTheir beauty shines, but eventually will fall.\\nTheir roots dig deep, but life's own force\\nClaims even them, and their time to endorse.\\n\\nTheir summer splendor now but a memory stays,\\nA bittersweet reminder to live and seize each passing day.\", type='TextMessage'), TextMessage(source='critic', models_usage=RequestUsage(prompt_tokens=739, completion_tokens=165), metadata={}, content='You made a great revision to the fourth line of your third stanza - rephrasing it from \"Their roots sink deep\" to \"Their roots dig deep\" not only changes the verb, but also creates a more active and precise image.\\n\\nHowever, in terms of cohesion and clarity, the phrase \"life\\'s own force\" might be a bit vague. What do you mean by \"life\\'s own force\"? A more grounded and specific reference to the natural cycle of life (e.g., decay, death) or a more universal concept would help solidify this idea.\\n\\nThe final two lines continue to convey the poignancy and importance of appreciating each moment as it passes. The imagery remains evocative, but you may want to consider varying some of the phrase structures for greater diversity in line and stanza rhythm.', type='TextMessage'), TextMessage(source='primary', models_usage=RequestUsage(prompt_tokens=901, completion_tokens=136), metadata={}, content=\"Golden maples blaze with fiery sheen,\\nCrimson oaks and amber elms are seen.\\nThe air is crisp, the wind is cold,\\nAs nature's final dance begins to unfold.\\n\\nThe scent of woodsmoke wafts through the air,\\nAs earthy smells and decaying fare,\\nFrom branches charred and leaves that fall,\\nEchoes whispers of a fleeting all.\\n\\nLike human lives, the trees stand tall,\\nTheir beauty shines, but eventually will fall.\\nDeath claims even them, in due time's sway,\\nAnd decay becomes their final stay.\\n\\nTheir summer splendor now but a memory stays,\\nA bittersweet reminder to cherish each passing day.\", type='TextMessage'), TextMessage(source='critic', models_usage=RequestUsage(prompt_tokens=1048, completion_tokens=144), metadata={}, content='You\\'ve clarified your meaning by using more specific and precise language. The phrase \"in due time\\'s sway\" effectively conveys the idea that even trees, like human lives, are subject to the natural passage of time.\\n\\nI also appreciate how you rephrased the final two lines. \"Cherish each passing day\" is a more active call to action than simply \"live and seize each passing day\", implying a sense of mindful appreciation for the present moment.\\n\\nOne minor observation: your language remains lyrical and accessible, but some readers may find the imagery a bit generic (e.g., \"earthly smells and decaying fare\"). Consider adding distinctive touches or sensory details to make the experience more immersive.', type='TextMessage'), TextMessage(source='primary', models_usage=RequestUsage(prompt_tokens=1189, completion_tokens=132), metadata={}, content=\"Golden maples blaze with fiery sheen,\\nCrimson oaks and amber elms are seen.\\nThe air is crisp, the wind is cold,\\nAs nature's final dance begins to unfold.\\n\\nThe scent of woodsmoke rises slow,\\nLike embers glowing from a forest show,\\nFrom branches charred and leaves that fall,\\nEchoes whispers of a fleeting all.\\n\\nLike human lives, the trees stand tall,\\nTheir beauty shines, but eventually will fall.\\nDeath claims even them, in due time's sway,\\nAnd autumn's quiet darkness takes its stay.\\n\\nThe rustle of leaves beneath bare feet,\\nReminds us to cherish each passing beat.\", type='TextMessage'), TextMessage(source='critic', models_usage=RequestUsage(prompt_tokens=1332, completion_tokens=204), metadata={}, content='Excellent revisions! You\\'ve maintained a consistent tone and imagery throughout the poem, while refining each stanza to create a more cohesive and immersive experience.\\n\\nI particularly like how you\\'ve varied the sensory details in the second stanza: switching from scent (\"The scent of woodsmoke wafts through the air\") to visual (\"Like embers glowing from a forest show\") creates a richer texture. The phrase \"forest show\" is also a great way to suggest the autumnal spectacle.\\n\\nIn contrast, your final stanza\\'s focus on the physical experience of walking through leaves (\"The rustle of leaves beneath bare feet\") grounds the poem nicely in the present moment, making it even more relatable and poignant.\\n\\nConsider revisiting the language of the third line: \"As autumn\\'s quiet darkness takes its stay\" might work better as a standalone phrase or image. The contrast between \"quiet\" and \"darkness\" feels slightly jarring – you could replace it with something that reinforces the seasonal atmosphere, like \"under winter\\'s grasp\".', type='TextMessage'), TextMessage(source='primary', models_usage=RequestUsage(prompt_tokens=1533, completion_tokens=133), metadata={}, content=\"Golden maples blaze with fiery sheen,\\nCrimson oaks and amber elms are seen.\\nThe air is crisp, the wind is cold,\\nAs nature's final dance begins to unfold.\\n\\nThe scent of woodsmoke rises slow,\\nLike embers glowing from a forest show,\\nFrom branches charred and leaves that fall,\\nEchoes whispers of a fleeting all.\\n\\nLike human lives, the trees stand tall,\\nTheir beauty shines, but eventually will fall.\\nDeath claims even them, in due time's sway,\\nAnd winter's grasp enfolds each passing day.\\n\\nThe rustle of leaves beneath bare feet,\\nReminds us to cherish each passing beat.\", type='TextMessage'), TextMessage(source='critic', models_usage=RequestUsage(prompt_tokens=1677, completion_tokens=92), metadata={}, content='APPROVE \\n\\nYour revisions effectively tied together the autumnal and winter themes, creating a smooth flow from one season to the next. The phrase \"winter\\'s grasp enfolds\" is particularly effective in conveying the sense of passing time and seasonal change.\\n\\nI think your poem has reached a well-crafted conclusion. While there\\'s always room for further refinement, it effectively explores the themes of impermanence, appreciation, and mindfulness through the seasons\\' lens.', type='TextMessage')], stop_reason=\"Text 'APPROVE' mentioned\")"
      ]
     },
     "execution_count": 13,
     "metadata": {},
     "output_type": "execute_result"
    }
   ],
   "source": [
    "import asyncio\n",
    "\n",
    "agents = [primary_agent, critic_agent]\n",
    "web_handler_agents = [primary_agent,assistant_agent, web_surfer_agent ]\n",
    "team = RoundRobinGroupChat(agents, termination_condition=external_termination | text_termination,)\n",
    " \n",
    "await team.reset()  # Reset the team for a new task.\n",
    "# async for message in team.run_stream(task=\"Write a short poem about the fall season.\"):  # type: ignore\n",
    "#     if isinstance(message, TaskResult):\n",
    "#         print(\"Stop Reason:\", message.stop_reason)\n",
    "#     else:\n",
    "#         print(message)\n",
    "\n",
    " \n",
    "run = asyncio.create_task(Console(team.run_stream(task=\"Write a short poem about the fall season.\")))\n",
    "\n",
    "await asyncio.sleep(0.1)\n"
   ]
  },
  {
   "cell_type": "code",
   "execution_count": null,
   "metadata": {},
   "outputs": [],
   "source": [
    "external_termination.set()\n",
    "\n",
    "# Wait for the team to finish.\n",
    "await run\n"
   ]
  },
  {
   "cell_type": "code",
   "execution_count": 3,
   "metadata": {},
   "outputs": [
    {
     "name": "stdout",
     "output_type": "stream",
     "text": [
      "---------- user ----------\n",
      "Write a 4-line poem about the ocean.\n",
      "---------- assistant ----------\n",
      "The vast blue waters stretch so far and wide\n",
      "Calming sounds of waves, a soothing tide\n",
      "Moonlight dances on the rippling sea\n",
      "Peaceful serenity for you and me\n",
      "---------- user_proxy ----------\n",
      "Nah\n",
      "---------- assistant ----------\n",
      "Let's try again. \n",
      "\n",
      "Crashing waves upon the sandy shore\n",
      "Ocean's roar, forever more\n",
      "Deep blue mystery beneath the surface lies\n",
      "Moments of solitude in the endless tides\n",
      "---------- user_proxy ----------\n",
      "Approve\n",
      "---------- assistant ----------\n",
      "I'm glad you liked it.\n",
      "\n",
      " TERMINATE\n",
      "---------- user_proxy ----------\n",
      "APPROVE\n"
     ]
    },
    {
     "data": {
      "text/plain": [
       "TaskResult(messages=[TextMessage(source='user', models_usage=None, metadata={}, content='Write a 4-line poem about the ocean.', type='TextMessage'), TextMessage(source='assistant', models_usage=RequestUsage(prompt_tokens=49, completion_tokens=38), metadata={}, content='The vast blue waters stretch so far and wide\\nCalming sounds of waves, a soothing tide\\nMoonlight dances on the rippling sea\\nPeaceful serenity for you and me', type='TextMessage'), UserInputRequestedEvent(source='user_proxy', models_usage=None, metadata={}, request_id='2b576553-4eba-4607-9dcf-5bc4ba76b1e3', content='', type='UserInputRequestedEvent'), TextMessage(source='user_proxy', models_usage=None, metadata={}, content='Nah', type='TextMessage'), TextMessage(source='assistant', models_usage=RequestUsage(prompt_tokens=98, completion_tokens=39), metadata={}, content=\"Let's try again. \\n\\nCrashing waves upon the sandy shore\\nOcean's roar, forever more\\nDeep blue mystery beneath the surface lies\\nMoments of solitude in the endless tides\", type='TextMessage'), UserInputRequestedEvent(source='user_proxy', models_usage=None, metadata={}, request_id='3a41be75-b960-4cfc-91e8-479e62073de6', content='', type='UserInputRequestedEvent'), TextMessage(source='user_proxy', models_usage=None, metadata={}, content='Approve', type='TextMessage'), TextMessage(source='assistant', models_usage=RequestUsage(prompt_tokens=148, completion_tokens=10), metadata={}, content=\"I'm glad you liked it.\\n\\n TERMINATE\", type='TextMessage'), UserInputRequestedEvent(source='user_proxy', models_usage=None, metadata={}, request_id='20a5bbb8-04cf-4d38-b375-3e4b64e6926b', content='', type='UserInputRequestedEvent'), TextMessage(source='user_proxy', models_usage=None, metadata={}, content='APPROVE', type='TextMessage')], stop_reason=\"Text 'APPROVE' mentioned\")"
      ]
     },
     "execution_count": 3,
     "metadata": {},
     "output_type": "execute_result"
    }
   ],
   "source": [
    "from autogen_agentchat.agents import AssistantAgent, UserProxyAgent\n",
    "from autogen_agentchat.conditions import TextMentionTermination\n",
    "from autogen_agentchat.teams import RoundRobinGroupChat\n",
    "from autogen_agentchat.ui import Console\n",
    "from autogen_ext.models.openai import OpenAIChatCompletionClient\n",
    "\n",
    " \n",
    "assistant = AssistantAgent(\"assistant\", model_client=model_client)\n",
    "user_proxy = UserProxyAgent(\"user_proxy\", input_func=input)  # Use input() to get user input from console.\n",
    "\n",
    "# Create the termination condition which will end the conversation when the user says \"APPROVE\".\n",
    "termination = TextMentionTermination(\"APPROVE\", sources=[\"user_proxy\"])\n",
    "\n",
    "# Create the team.\n",
    "team = RoundRobinGroupChat([assistant, user_proxy], termination_condition=termination)\n",
    "\n",
    "# Run the conversation and stream to the console.\n",
    "stream = team.run_stream(task=\"Write a 4-line poem about the ocean.\")\n",
    "# Use asyncio.run(...) when running in a script.\n",
    "await Console(stream)"
   ]
  },
  {
   "cell_type": "code",
   "execution_count": 6,
   "metadata": {},
   "outputs": [],
   "source": [
    "\n",
    "def approve():\n",
    "    pass\n",
    "\n",
    "# Create the primary agent.\n",
    "primary_agent = AssistantAgent(\n",
    "    \"primary\",\n",
    "    model_client=model_client,\n",
    "    system_message=\"You are a helpful AI assistant.\",\n",
    ")\n",
    "\n",
    "# Create the critic agent with the approve function as a tool.\n",
    "critic_agent = AssistantAgent(\n",
    "    \"critic\",\n",
    "    model_client=model_client,\n",
    "    tools=[approve],  # Register the approve function as a tool.\n",
    "    system_message=\"Provide constructive feedback. Use the approve tool to approve when all feedbacks are addressed.\",\n",
    ")\n"
   ]
  },
  {
   "cell_type": "code",
   "execution_count": 13,
   "metadata": {},
   "outputs": [],
   "source": [
    "from autogen_agentchat.base import TerminationCondition, TerminatedException\n",
    "from autogen_core import Component\n",
    "from pydantic import BaseModel\n",
    "from autogen_agentchat.messages import AgentEvent, ChatMessage, StopMessage, ToolCallExecutionEvent\n",
    "from typing_extensions import Self\n",
    "from typing import Sequence\n",
    "\n",
    "class FunctionCallTerminationConfig(BaseModel):\n",
    "    name:str\n",
    "    \n",
    "\n",
    "class FunctionCallTermination(TerminationCondition, Component[FunctionCallTerminationConfig]):\n",
    "    \n",
    "    component_config_schema = FunctionCallTerminationConfig\n",
    "    \n",
    "    def __init__(self, function_name: str) -> None:\n",
    "        self._terminated = False\n",
    "        self._function_name = function_name\n",
    "\n",
    "    @property\n",
    "    def terminated(self) -> bool:\n",
    "        return self._terminated\n",
    "    \n",
    "    async def __call__(self, messages: Sequence[AgentEvent | ChatMessage]) -> StopMessage | None:\n",
    "        if self._terminated:\n",
    "            raise TerminatedException(\"Termination condition has already been reached\")\n",
    "        for message in messages:\n",
    "            if isinstance(message, ToolCallExecutionEvent):\n",
    "                for execution in message.content:\n",
    "                    if execution.name == self._function_name:\n",
    "                        self._terminated = True\n",
    "                        return StopMessage(\n",
    "                            content=f\"Function '{self._function_name}' was executed.\",\n",
    "                            source=\"FunctionCallTermination\",\n",
    "                        )\n",
    "        return None\n",
    "\n",
    "    async def reset(self) -> None:\n",
    "        self._terminated = False\n",
    "\n",
    "    def _to_config(self) -> FunctionCallTerminationConfig:\n",
    "        return FunctionCallTerminationConfig(\n",
    "            function_name=self._function_name,\n",
    "        )\n",
    "\n",
    "    @classmethod\n",
    "    def _from_config(cls, config: FunctionCallTerminationConfig) -> Self:\n",
    "        return cls(\n",
    "            function_name=config.function_name,\n",
    "        )"
   ]
  },
  {
   "cell_type": "code",
   "execution_count": 14,
   "metadata": {},
   "outputs": [
    {
     "name": "stdout",
     "output_type": "stream",
     "text": [
      "---------- user ----------\n",
      "Write a short poem about the fall season.\n",
      "---------- primary ----------\n",
      "Here's a short poem about fall:\n",
      "\n",
      "Autumn leaves begin to play,\n",
      "Dancing in breezes on their way.\n",
      "Golden hues and crimson bright,\n",
      "Filling hearts with warmth and delight.\n",
      "\n",
      "Crisp air whispers through the trees,\n",
      "As nature's final dance proceeds.\n",
      "Fading summer's gentle sigh,\n",
      "Echoes in the autumn sky.\n",
      "\n",
      "Would you like me to revise anything or write a new one?\n",
      "---------- critic ----------\n",
      "[FunctionCall(id='call_std9rvod', arguments='{}', name='approve')]\n",
      "---------- critic ----------\n",
      "[FunctionExecutionResult(content='None', name='approve', call_id='call_std9rvod', is_error=False)]\n",
      "---------- critic ----------\n",
      "None\n"
     ]
    },
    {
     "data": {
      "text/plain": [
       "TaskResult(messages=[TextMessage(source='user', models_usage=None, metadata={}, content='Write a short poem about the fall season.', type='TextMessage'), TextMessage(source='primary', models_usage=RequestUsage(prompt_tokens=88, completion_tokens=82), metadata={}, content=\"Here's a short poem about fall:\\n\\nAutumn leaves begin to play,\\nDancing in breezes on their way.\\nGolden hues and crimson bright,\\nFilling hearts with warmth and delight.\\n\\nCrisp air whispers through the trees,\\nAs nature's final dance proceeds.\\nFading summer's gentle sigh,\\nEchoes in the autumn sky.\\n\\nWould you like me to revise anything or write a new one?\", type='TextMessage'), ToolCallRequestEvent(source='critic', models_usage=RequestUsage(prompt_tokens=320, completion_tokens=12), metadata={}, content=[FunctionCall(id='call_std9rvod', arguments='{}', name='approve')], type='ToolCallRequestEvent'), ToolCallExecutionEvent(source='critic', models_usage=None, metadata={}, content=[FunctionExecutionResult(content='None', name='approve', call_id='call_std9rvod', is_error=False)], type='ToolCallExecutionEvent'), ToolCallSummaryMessage(source='critic', models_usage=None, metadata={}, content='None', type='ToolCallSummaryMessage')], stop_reason=\"Function 'approve' was executed.\")"
      ]
     },
     "execution_count": 14,
     "metadata": {},
     "output_type": "execute_result"
    }
   ],
   "source": [
    "functionCallTermination = FunctionCallTermination(\"approve\")\n",
    "\n",
    "team = RoundRobinGroupChat(\n",
    "    [primary_agent, critic_agent],\n",
    "    termination_condition=functionCallTermination,)\n",
    "\n",
    "await Console(team.run_stream(task=\"Write a short poem about the fall season.\"))"
   ]
  },
  {
   "cell_type": "code",
   "execution_count": 29,
   "metadata": {},
   "outputs": [
    {
     "name": "stdout",
     "output_type": "stream",
     "text": [
      "---------- user ----------\n",
      "Write a joke about CS go2 gamling?\n",
      "---------- assistant_agent ----------\n",
      "Why did the CS: Go player bring a ladder to the match?\n",
      "\n",
      "Because he wanted to take his bets to the next level! (get it?)\n"
     ]
    },
    {
     "data": {
      "text/plain": [
       "TaskResult(messages=[TextMessage(source='user', models_usage=None, metadata={}, content='Write a joke about CS go2 gamling?', type='TextMessage'), TextMessage(source='assistant_agent', models_usage=RequestUsage(prompt_tokens=30, completion_tokens=31), metadata={}, content='Why did the CS: Go player bring a ladder to the match?\\n\\nBecause he wanted to take his bets to the next level! (get it?)', type='TextMessage')], stop_reason='Maximum number of messages 2 reached, current message count: 2')"
      ]
     },
     "execution_count": 29,
     "metadata": {},
     "output_type": "execute_result"
    }
   ],
   "source": [
    "from autogen_agentchat.conditions import MaxMessageTermination\n",
    "assistant_agent = AssistantAgent(\n",
    "    name=\"assistant_agent\",\n",
    "    system_message=\"You are a helpful assistant\",\n",
    "    model_client= model_client\n",
    ")\n",
    "agent_team = RoundRobinGroupChat([assistant_agent], termination_condition=MaxMessageTermination(max_messages=2))\n",
    "await Console(agent_team.run_stream(task=\"Write a joke about CS go2 gamling?\"))\n"
   ]
  },
  {
   "cell_type": "code",
   "execution_count": 30,
   "metadata": {},
   "outputs": [
    {
     "name": "stdout",
     "output_type": "stream",
     "text": [
      "---------- user ----------\n",
      "what was the last topic that we talk about\n",
      "---------- assistant_agent ----------\n",
      "This is the beginning of our conversation, so we haven't discussed anything yet. What would you like to talk about? I can summarize our conversation at the end if you'd like!\n"
     ]
    },
    {
     "data": {
      "text/plain": [
       "TaskResult(messages=[TextMessage(source='user', models_usage=None, metadata={}, content='what was the last topic that we talk about', type='TextMessage'), TextMessage(source='assistant_agent', models_usage=RequestUsage(prompt_tokens=29, completion_tokens=38), metadata={}, content=\"This is the beginning of our conversation, so we haven't discussed anything yet. What would you like to talk about? I can summarize our conversation at the end if you'd like!\", type='TextMessage')], stop_reason='Maximum number of messages 2 reached, current message count: 2')"
      ]
     },
     "execution_count": 30,
     "metadata": {},
     "output_type": "execute_result"
    }
   ],
   "source": [
    "team_state = await agent_team.save_state()\n",
    "\n",
    "await agent_team.reset()\n",
    "\n",
    "await Console(agent_team.run_stream(task=\"what was the last topic that we talk about\"))"
   ]
  },
  {
   "cell_type": "code",
   "execution_count": 31,
   "metadata": {},
   "outputs": [
    {
     "name": "stdout",
     "output_type": "stream",
     "text": [
      "{'type': 'TeamState', 'version': '1.0.0', 'agent_states': {'assistant_agent': {'type': 'ChatAgentContainerState', 'version': '1.0.0', 'agent_state': {'type': 'AssistantAgentState', 'version': '1.0.0', 'llm_context': {'messages': [{'content': 'Write a joke about CS go2 gamling?', 'source': 'user', 'type': 'UserMessage'}, {'content': 'Why did the CS: Go player bring a ladder to the match?\\n\\nBecause he wanted to take his bets to the next level! (get it?)', 'thought': None, 'source': 'assistant_agent', 'type': 'AssistantMessage'}]}}, 'message_buffer': []}, 'RoundRobinGroupChatManager': {'type': 'RoundRobinManagerState', 'version': '1.0.0', 'message_thread': [{'source': 'user', 'models_usage': None, 'metadata': {}, 'content': 'Write a joke about CS go2 gamling?', 'type': 'TextMessage'}, {'source': 'assistant_agent', 'models_usage': {'prompt_tokens': 30, 'completion_tokens': 31}, 'metadata': {}, 'content': 'Why did the CS: Go player bring a ladder to the match?\\n\\nBecause he wanted to take his bets to the next level! (get it?)', 'type': 'TextMessage'}], 'current_turn': 0, 'next_speaker_index': 0}}}\n"
     ]
    }
   ],
   "source": [
    "print(team_state)"
   ]
  },
  {
   "cell_type": "code",
   "execution_count": 32,
   "metadata": {},
   "outputs": [
    {
     "name": "stdout",
     "output_type": "stream",
     "text": [
      "---------- user ----------\n",
      "what was the last topic that we talk about\n"
     ]
    },
    {
     "name": "stdout",
     "output_type": "stream",
     "text": [
      "---------- assistant_agent ----------\n",
      "Our last topic was talking about CS: GO and creating a joke about CS: GO 2 gaming.\n"
     ]
    },
    {
     "data": {
      "text/plain": [
       "TaskResult(messages=[TextMessage(source='user', models_usage=None, metadata={}, content='what was the last topic that we talk about', type='TextMessage'), TextMessage(source='assistant_agent', models_usage=RequestUsage(prompt_tokens=79, completion_tokens=22), metadata={}, content='Our last topic was talking about CS: GO and creating a joke about CS: GO 2 gaming.', type='TextMessage')], stop_reason='Maximum number of messages 2 reached, current message count: 2')"
      ]
     },
     "execution_count": 32,
     "metadata": {},
     "output_type": "execute_result"
    }
   ],
   "source": [
    "await agent_team.load_state(team_state)\n",
    "\n",
    "await Console(agent_team.run_stream(task=\"what was the last topic that we talk about\"))"
   ]
  },
  {
   "cell_type": "code",
   "execution_count": 34,
   "metadata": {},
   "outputs": [],
   "source": [
    "import json\n",
    "\n",
    "with open(\"coding/team_state.json\", \"w\") as f:\n",
    "    json.dump(team_state, f)"
   ]
  },
  {
   "cell_type": "code",
   "execution_count": null,
   "metadata": {},
   "outputs": [],
   "source": [
    "from autogen_ext.memory.chromadb"
   ]
  }
 ],
 "metadata": {
  "kernelspec": {
   "display_name": ".venv",
   "language": "python",
   "name": "python3"
  },
  "language_info": {
   "codemirror_mode": {
    "name": "ipython",
    "version": 3
   },
   "file_extension": ".py",
   "mimetype": "text/x-python",
   "name": "python",
   "nbconvert_exporter": "python",
   "pygments_lexer": "ipython3",
   "version": "3.12.8"
  }
 },
 "nbformat": 4,
 "nbformat_minor": 2
}
